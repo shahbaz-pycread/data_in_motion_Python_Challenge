{
 "cells": [
  {
   "cell_type": "markdown",
   "metadata": {},
   "source": [
    "## QUESTIONS:\n",
    "\n",
    "### 1. ATM machines allow 4 or 6 digit PIN codes and PIN codes cannot contain anything but exactly 4 digits or exactly 6 digits. Your task is to create a function that takes a string and returns True if the PIN is valid and False if it's not."
   ]
  },
  {
   "cell_type": "code",
   "execution_count": 2,
   "metadata": {},
   "outputs": [
    {
     "name": "stdout",
     "output_type": "stream",
     "text": [
      "True\n",
      "True\n",
      "True\n",
      "False\n"
     ]
    }
   ],
   "source": [
    "def is_valid_PIN(a):\n",
    "    if a.isnumeric() and len(a) == 4 or len(a) == 6 :\n",
    "        print(True)\n",
    "    else:\n",
    "        print(False)\n",
    "\n",
    "is_valid_PIN('1234')\n",
    "is_valid_PIN('12345')\n",
    "is_valid_PIN('a234')\n",
    "is_valid_PIN('')"
   ]
  },
  {
   "cell_type": "markdown",
   "metadata": {},
   "source": [
    "## QUESTIONS:\n",
    "\n",
    "### 2. In this exercise you will have to:\n",
    "\n",
    "    - Take a list of names.\n",
    "    - Add \"Hello\" to every name.\n",
    "    - Make one big string with all greetings.\n"
   ]
  },
  {
   "cell_type": "code",
   "execution_count": 56,
   "metadata": {},
   "outputs": [
    {
     "name": "stdout",
     "output_type": "stream",
     "text": [
      "Hello Joe, \b\b \n",
      "Hello Angela, Hello Joe, \b\b \n",
      "Hello Frank, Hello Angela, Hello Joe, \b\b \n"
     ]
    }
   ],
   "source": [
    "def greet_people(names):\n",
    "    for name in names:\n",
    "        print(\"Hello \" + name, end = \", \")\n",
    "        \n",
    "    print(\"\\b\\b \")\n",
    "        \n",
    "greet_people([\"Joe\"]) \n",
    "greet_people([\"Angela\", \"Joe\"])\n",
    "greet_people([\"Frank\", \"Angela\", \"Joe\"])\n",
    "\n",
    "    \n",
    "    "
   ]
  }
 ],
 "metadata": {
  "kernelspec": {
   "display_name": "Python 3.6.5 ('Python_MySql-V1iSYAVQ')",
   "language": "python",
   "name": "python3"
  },
  "language_info": {
   "codemirror_mode": {
    "name": "ipython",
    "version": 3
   },
   "file_extension": ".py",
   "mimetype": "text/x-python",
   "name": "python",
   "nbconvert_exporter": "python",
   "pygments_lexer": "ipython3",
   "version": "3.6.5"
  },
  "vscode": {
   "interpreter": {
    "hash": "9ac568ee6fe221797b5c87cefd7d3571a8032260fa9d3efe24944424a273665e"
   }
  }
 },
 "nbformat": 4,
 "nbformat_minor": 2
}
